{
 "cells": [
  {
   "cell_type": "code",
   "execution_count": 7,
   "metadata": {},
   "outputs": [],
   "source": [
    "import cv2\n",
    "import time"
   ]
  },
  {
   "cell_type": "code",
   "execution_count": 8,
   "metadata": {},
   "outputs": [],
   "source": [
    "# SET THE COUNTDOWN TIMER\n",
    "# for simplicity we set it to 3\n",
    "# We can also take this as input\n",
    "TIMER = int(10)\n",
    "\n",
    "# Open the camera\n",
    "cap = cv2.VideoCapture(0)\n",
    "r = 3\n",
    "\n",
    "while r:\n",
    "    # Read and display each frame\n",
    "    ret, img = cap.read()\n",
    "    # cv2.imshow('img', img)\n",
    "\n",
    "    # check for the key pressed\n",
    "    # k = cv2.waitKey(125)\n",
    "\n",
    "    # set the key for the countdown\n",
    "    # to begin. Here we set q\n",
    "    # if key pressed is q\n",
    "    prev = time.time()\n",
    "\n",
    "    while TIMER >= 0:\n",
    "        ret, img = cap.read()\n",
    "        font = cv2.FONT_HERSHEY_SIMPLEX\n",
    "        cv2.putText(img, str(TIMER),(200, 250), font,2, (0, 255, 255),4, cv2.LINE_AA)\n",
    "        cv2.imshow('IMG', img)\n",
    "        cv2.waitKey(125)\n",
    "\n",
    "        # current time\n",
    "        cur = time.time()\n",
    "\n",
    "        # Update and keep track of Countdown\n",
    "        # if time elapsed is one second\n",
    "        # then decrease the counter\n",
    "        if cur-prev >= 1:\n",
    "            prev = cur\n",
    "            TIMER = TIMER-1\n",
    "\n",
    "    else:\n",
    "        r -=1\n",
    "        ret, img = cap.read()\n",
    "        # Display the clicked frame for 2\n",
    "        # sec.You can increase time in\n",
    "        # waitKey also\n",
    "        cv2.imshow('a', img)\n",
    "\n",
    "        # time for which image displayed\n",
    "        cv2.waitKey(2000)\n",
    "\n",
    "        # Save the frame\n",
    "        cv2.imwrite('camera' + str(r) +'.jpg', img)\n",
    "\n",
    "        TIMER = int(10)\n",
    "        # HERE we can reset the Countdown timer\n",
    "        # if we want more Capture without closing\n",
    "        # the camera\n",
    "\n",
    "# Press Esc to exit\n",
    "# # close the camera\n",
    "\n",
    "cap.release()\n",
    "\n",
    "# close all the opened windows\n",
    "cv2.destroyAllWindows()\n"
   ]
  },
  {
   "cell_type": "code",
   "execution_count": null,
   "metadata": {},
   "outputs": [],
   "source": []
  }
 ],
 "metadata": {
  "kernelspec": {
   "display_name": "Python 3",
   "language": "python",
   "name": "python3"
  },
  "language_info": {
   "codemirror_mode": {
    "name": "ipython",
    "version": 3
   },
   "file_extension": ".py",
   "mimetype": "text/x-python",
   "name": "python",
   "nbconvert_exporter": "python",
   "pygments_lexer": "ipython3",
   "version": "3.7.12"
  },
  "orig_nbformat": 4
 },
 "nbformat": 4,
 "nbformat_minor": 2
}
